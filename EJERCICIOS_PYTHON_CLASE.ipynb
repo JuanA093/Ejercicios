{
  "nbformat": 4,
  "nbformat_minor": 0,
  "metadata": {
    "colab": {
      "provenance": [],
      "authorship_tag": "ABX9TyNZRQxpye/1/B8XQwFw8J4u",
      "include_colab_link": true
    },
    "kernelspec": {
      "name": "python3",
      "display_name": "Python 3"
    },
    "language_info": {
      "name": "python"
    }
  },
  "cells": [
    {
      "cell_type": "markdown",
      "metadata": {
        "id": "view-in-github",
        "colab_type": "text"
      },
      "source": [
        "<a href=\"https://colab.research.google.com/github/JuanA093/Ejercicios/blob/main/EJERCICIOS_PYTHON_CLASE.ipynb\" target=\"_parent\"><img src=\"https://colab.research.google.com/assets/colab-badge.svg\" alt=\"Open In Colab\"/></a>"
      ]
    },
    {
      "cell_type": "markdown",
      "source": [
        "***Ejercicio 1***"
      ],
      "metadata": {
        "id": "2AJl9se7LAe2"
      }
    },
    {
      "cell_type": "code",
      "source": [
        "def ejercicioDivisa():\n",
        "    moneda={\"Euro\":'€',\"Dollar\":'$',\"Yen\":'Y' }\n",
        "    print()\n",
        "    n=input(\"Sr. Usuario, por favor ingrese una divisa: \")\n",
        "\n",
        "    if n in moneda:\n",
        "        print(\"Sr. Usuario, la divisa escogida es: \",moneda[n])\n",
        "    else:\n",
        "        print(\"La divisa no es valida, digite nuevamente. \")\n",
        "\n",
        "ejercicioDivisa()"
      ],
      "metadata": {
        "id": "WoN8FDcJK-HC"
      },
      "execution_count": null,
      "outputs": []
    },
    {
      "cell_type": "markdown",
      "source": [
        "***Ejercicio 2***"
      ],
      "metadata": {
        "id": "uPCUKH79JOEQ"
      }
    },
    {
      "cell_type": "code",
      "source": [
        "def ejercicioDatos():\n",
        "    print(\"*****Bienvenido a su programa de datos*****\")\n",
        "    print()\n",
        "    nombre=input(\"Por favor ingrese su nombre: \")\n",
        "    print()\n",
        "    edad=int(input(\"Por favor ingrese su edad: \"))\n",
        "    print()\n",
        "    direccion=input(\"Por favor ingrese su direccion: \")\n",
        "    print()\n",
        "    telefono=int(input(\"Por favor ingrese su # de telefono: \"))\n",
        "    datos={\"Nombre\":nombre, \"Edad\":edad, \"Direccion\":direccion, \"Telefono\":telefono}\n",
        "\n",
        "    print(datos[\"Nombre\"],\"Tiene\",datos[\"Edad\"],\"años, vive en: \",datos[\"Direccion\"],\"y su numero de telefono es: \",datos[\"Telefono\"])\n",
        "\n",
        "ejercicioDatos()"
      ],
      "metadata": {
        "id": "69-6YfxqJF2Y"
      },
      "execution_count": null,
      "outputs": []
    },
    {
      "cell_type": "markdown",
      "source": [
        "***Ejercicio 3***"
      ],
      "metadata": {
        "id": "4sN53OvuI9fZ"
      }
    },
    {
      "cell_type": "code",
      "execution_count": null,
      "metadata": {
        "colab": {
          "base_uri": "https://localhost:8080/"
        },
        "id": "J9RPAP-9CX6L",
        "outputId": "4bb4e12d-f076-40bd-cb4e-00cd06855469"
      },
      "outputs": [
        {
          "output_type": "stream",
          "name": "stdout",
          "text": [
            "¿Qué fruta quieres? pera\n",
            "¿Cuántos kilos? 3.5\n",
            "3.5 kilos de Pera valen 2.975\n"
          ]
        }
      ],
      "source": [
        "fruits = {'Plátano':1.35, 'Manzana':0.8, 'Pera':0.85, 'Naranja':0.7}\n",
        "fruit = input('¿Qué fruta quieres? ').title()\n",
        "kg = float(input('¿Cuántos kilos? '))\n",
        "if fruit in fruits:\n",
        "    print(kg, 'kilos de', fruit, 'valen', fruits[fruit]*kg )\n",
        "else: \n",
        "    print(\"Lo siento, la fruta\", fruit, \"no está disponible.\")"
      ]
    }
  ]
}