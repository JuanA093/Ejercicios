{
  "nbformat": 4,
  "nbformat_minor": 0,
  "metadata": {
    "colab": {
      "provenance": [],
      "authorship_tag": "ABX9TyPlNb2T7oFjBE8nDjrvdPR6",
      "include_colab_link": true
    },
    "kernelspec": {
      "name": "python3",
      "display_name": "Python 3"
    },
    "language_info": {
      "name": "python"
    }
  },
  "cells": [
    {
      "cell_type": "markdown",
      "metadata": {
        "id": "view-in-github",
        "colab_type": "text"
      },
      "source": [
        "<a href=\"https://colab.research.google.com/github/JuanA093/Ejercicios/blob/main/ejercicios_condicionales_py.ipynb\" target=\"_parent\"><img src=\"https://colab.research.google.com/assets/colab-badge.svg\" alt=\"Open In Colab\"/></a>"
      ]
    },
    {
      "cell_type": "code",
      "execution_count": null,
      "metadata": {
        "colab": {
          "base_uri": "https://localhost:8080/"
        },
        "id": "j6yAHbgZgzEs",
        "outputId": "20f245b6-8e32-4684-919b-2aa08fbecdf3"
      },
      "outputs": [
        {
          "output_type": "stream",
          "name": "stdout",
          "text": [
            "*****Bienvenido a su programa de calculo de edad*****\n",
            "\n",
            "Sr. Usuario, por favor introduzca su edad: 24\n",
            "\n",
            "Usted es mayor de edad, bienvenido\n",
            "Fin del programa\n"
          ]
        }
      ],
      "source": [
        "def edad():\n",
        "  print(\"*****Bienvenido a su programa de calculo de edad*****\")\n",
        "  print()\n",
        "  edad=int(input(\"Sr. Usuario, por favor introduzca su edad: \"))\n",
        "  print()\n",
        "  if edad >= 18:\n",
        "    print(\"Usted es mayor de edad, bienvenido\")\n",
        "  else:\n",
        "    print(\"Lo lamento, usted no es mayor de edad\")\n",
        "\n",
        "  print(\"Fin del programa\")\n",
        "edad()      "
      ]
    },
    {
      "cell_type": "code",
      "source": [
        "\n",
        "def numeros():\n",
        "  num1=float(input(\"Sr. Usuario, por favor introduzca el primer valor: \"))\n",
        "  num2=float(input(\"Sr. Usuario, por favor introduzca el segundo valor: \"))\n",
        "  \n",
        "  if num2==0:\n",
        "    print(\"Error, no se puede dividir por cero, introduzca un valor valido\")\n",
        "  else:\n",
        "    print(\"El resultado de su division es: \",num1/num2)  \n",
        "numeros()    \n"
      ],
      "metadata": {
        "colab": {
          "base_uri": "https://localhost:8080/"
        },
        "id": "izpkc0Q6imWI",
        "outputId": "b7ab3492-95f3-4e59-b8e1-a5508bbccc2f"
      },
      "execution_count": null,
      "outputs": [
        {
          "output_type": "stream",
          "name": "stdout",
          "text": [
            "Sr. Usuario, por favor introduzca el primer valor: 4\n",
            "Sr. Usuario, por favor introduzca el segundo valor: 2\n",
            "El resultado de su division es:  2.0\n"
          ]
        }
      ]
    },
    {
      "cell_type": "code",
      "source": [
        "def tributo():\n",
        "  edad=int(input(\"Por favor introduzca su edad: \"))\n",
        "  ingresos=float(input(\"Por favor introduzca el total de sus ingresos\"))\n",
        "\n",
        "  if edad >16 and ingresos >=1000:\n",
        "    print(\"Sr Usuario, usted debe tributar\")\n",
        "  else:\n",
        "    print(\"Usted no debe tributar\")\n",
        "\n",
        "tributo()\n",
        "  "
      ],
      "metadata": {
        "colab": {
          "base_uri": "https://localhost:8080/"
        },
        "id": "1zixBh4RlAJJ",
        "outputId": "9e86a020-af71-492b-d0a6-775f01cecc4f"
      },
      "execution_count": null,
      "outputs": [
        {
          "output_type": "stream",
          "name": "stdout",
          "text": [
            "Por favor introduzca su edad: 17\n",
            "Por favor introduzca el total de sus ingresos1000\n",
            "Sr Usuario, usted debe tributar\n"
          ]
        }
      ]
    },
    {
      "cell_type": "code",
      "source": [
        "def renta():\n",
        "  rentaA=float(input(\"Sr Usuario, por favor digite el valor de su renta anual: \"))\n",
        "  tipo1=5\n",
        "  tipo2=15\n",
        "  tipo3=20\n",
        "  tipo4=30\n",
        "  tipo5=45\n",
        "\n",
        "  if rentaA <10000:\n",
        "    total=(tipo1 * rentaA) / 100\n",
        "    print(\"El valor total a pagar es: \",\"€\",total)\n",
        "\n",
        "  elif rentaA >10000 and rentaA<20000:\n",
        "    total=(tipo2 * rentaA) / 100\n",
        "    print(\"El valor total a pagar es: \",\"€\",total)\n",
        "\n",
        "  elif rentaA >20000 and rentaA<35000:\n",
        "    total=(tipo3 * rentaA) / 100\n",
        "    print(\"El valor total a pagar es: \",\"€\",total)\n",
        "\n",
        "  elif rentaA >35000 and rentaA<60000:\n",
        "    total=(tipo4 * rentaA) / 100\n",
        "    print(\"El valor total a pagar es: \",\"€\",total)\n",
        "\n",
        "  elif rentaA >60000:\n",
        "    total=(tipo5 * rentaA) / 100\n",
        "    print(\"El valor total a pagar es: \",\"€\",total)  \n",
        "renta()    \n"
      ],
      "metadata": {
        "colab": {
          "base_uri": "https://localhost:8080/"
        },
        "id": "rGrOkWMKnVsw",
        "outputId": "b061b6fe-1f5e-4c73-9da2-bf4e96339d01"
      },
      "execution_count": null,
      "outputs": [
        {
          "output_type": "stream",
          "name": "stdout",
          "text": [
            "Sr Usuario, por favor digite el valor de su renta anual: 55000\n",
            "El valor total a pagar es:  € 16500.0\n"
          ]
        }
      ]
    },
    {
      "cell_type": "code",
      "source": [],
      "metadata": {
        "id": "u237VNfGrPQK"
      },
      "execution_count": null,
      "outputs": []
    }
  ]
}