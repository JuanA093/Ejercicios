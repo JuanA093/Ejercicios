{
  "nbformat": 4,
  "nbformat_minor": 0,
  "metadata": {
    "colab": {
      "provenance": [],
      "collapsed_sections": [],
      "authorship_tag": "ABX9TyPFASL243a3rvWfJ17f3e7/",
      "include_colab_link": true
    },
    "kernelspec": {
      "name": "python3",
      "display_name": "Python 3"
    },
    "language_info": {
      "name": "python"
    }
  },
  "cells": [
    {
      "cell_type": "markdown",
      "metadata": {
        "id": "view-in-github",
        "colab_type": "text"
      },
      "source": [
        "<a href=\"https://colab.research.google.com/github/JuanA093/Ejercicios/blob/main/Ejercicios_clase_2.ipynb\" target=\"_parent\"><img src=\"https://colab.research.google.com/assets/colab-badge.svg\" alt=\"Open In Colab\"/></a>"
      ]
    },
    {
      "cell_type": "code",
      "execution_count": null,
      "metadata": {
        "colab": {
          "base_uri": "https://localhost:8080/"
        },
        "id": "s_RSV3ifJ3hh",
        "outputId": "b4f51ef4-6dbf-4c6c-f878-390eae5cfbc9"
      },
      "outputs": [
        {
          "output_type": "stream",
          "name": "stdout",
          "text": [
            "Hola Mundo!\n"
          ]
        }
      ],
      "source": [
        "print(\"Hola Mundo!\")"
      ]
    },
    {
      "cell_type": "code",
      "source": [
        "mensaje=\"Hola Mundo!\"\n",
        "print(mensaje)"
      ],
      "metadata": {
        "colab": {
          "base_uri": "https://localhost:8080/"
        },
        "id": "xK5Cb57FJ9Yp",
        "outputId": "775ce936-c788-4211-b35e-64f828192e35"
      },
      "execution_count": null,
      "outputs": [
        {
          "output_type": "stream",
          "name": "stdout",
          "text": [
            "Hola Mundo!\n"
          ]
        }
      ]
    },
    {
      "cell_type": "code",
      "source": [
        "name=input(\"Ingrese su nombre por favor:\")\n",
        "print(\"Hola\",name)"
      ],
      "metadata": {
        "colab": {
          "base_uri": "https://localhost:8080/"
        },
        "id": "HknHGtISKHkg",
        "outputId": "d992ced3-ed16-4e86-b0dc-b82989d03564"
      },
      "execution_count": null,
      "outputs": [
        {
          "output_type": "stream",
          "name": "stdout",
          "text": [
            "Ingrese su nombre por favor:Juan\n",
            "Hola Juan\n"
          ]
        }
      ]
    },
    {
      "cell_type": "code",
      "source": [
        "imc=24\n",
        "altura=(float(input(\"Ingrese su altura por favor: \")))\n",
        "peso=imc * altura**2\n",
        "print(\"Sr. Usuario su peso ideal es de: \",round(peso,2))\n",
        "\n",
        "\n"
      ],
      "metadata": {
        "colab": {
          "base_uri": "https://localhost:8080/"
        },
        "id": "0uA-9aHeK00K",
        "outputId": "8166882d-741d-4b2c-ec20-bc14278ebb67"
      },
      "execution_count": null,
      "outputs": [
        {
          "output_type": "stream",
          "name": "stdout",
          "text": [
            "Ingrese su altura por favor: 1.70\n",
            "Sr. Usuario su peso ideal es de:  69.36\n"
          ]
        }
      ]
    },
    {
      "cell_type": "code",
      "source": [
        "dato1=(int(input(\"Ingrese el valor inicial del rango en entero: \")))\n",
        "dato2=(int(input(\"Ingrese el valor final del rango en entero : \")))\n",
        "if dato2 < dato1:\n",
        "  print(\"Error, vuelva a digitar\")\n",
        "else:\n",
        "  for i in range(dato1,dato2,2):\n",
        "    print(i)\n",
        "\n"
      ],
      "metadata": {
        "colab": {
          "base_uri": "https://localhost:8080/"
        },
        "id": "2AdUYN0mOlTg",
        "outputId": "65db563c-eae8-4ae1-fba7-b403047b7191"
      },
      "execution_count": null,
      "outputs": [
        {
          "output_type": "stream",
          "name": "stdout",
          "text": [
            "Ingrese el valor inicial del rango en entero: 2\n",
            "Ingrese el valor final del rango en entero : 10\n",
            "2\n",
            "4\n",
            "6\n",
            "8\n"
          ]
        }
      ]
    },
    {
      "cell_type": "code",
      "source": [
        "from datetime import datetime, timedelta, date\n",
        "from time import strftime\n",
        "import calendar\n",
        "curr_date = date.today()\n",
        "now = datetime.now()\n",
        "now_less_5hours=now - timedelta(hours=5)\n",
        "\n",
        "current_time = now_less_5hours.strftime(\"%H:%M:%S\")\n",
        "print(\"Current time =\",current_time)\n",
        "print(now_less_5hours.isoweekday())\n",
        "print(calendar.day_name[curr_date.weekday()])\n",
        "\n",
        "dia=now_less_5hours.isoweekday()\n",
        "\n",
        "if (dia == 2 or dia==4):\n",
        "  print(\"Hay clase\")\n",
        "else:\n",
        "  print(\"No hay clase\")"
      ],
      "metadata": {
        "colab": {
          "base_uri": "https://localhost:8080/"
        },
        "id": "n-cTU1umXipx",
        "outputId": "9e8628e6-8481-4533-8947-16a0c1ca65db"
      },
      "execution_count": 4,
      "outputs": [
        {
          "output_type": "stream",
          "name": "stdout",
          "text": [
            "Current time = 18:41:24\n",
            "4\n",
            "Thursday\n",
            "Hay clase\n"
          ]
        }
      ]
    },
    {
      "cell_type": "code",
      "source": [
        "user_=\"Admin\"\n",
        "contrasena_=\"123\"\n",
        "print(\"Ingrese sus datos por favor: \")\n",
        "print(\"Usuario: \")\n",
        "user=input()\n",
        "print(\"Contraseña: \")\n",
        "contrasena=input()\n",
        "if user==user_ and contrasena==contrasena_:\n",
        "  print(\"Bienvenidos a su programa!\")\n",
        "else:\n",
        "  print(\"Usuario o contraseña invalido!\")\n"
      ],
      "metadata": {
        "colab": {
          "base_uri": "https://localhost:8080/"
        },
        "id": "KVER1pBphDQF",
        "outputId": "fa09af43-ad52-41a4-f2c6-5d045d1d30fd"
      },
      "execution_count": 5,
      "outputs": [
        {
          "output_type": "stream",
          "name": "stdout",
          "text": [
            "Ingrese sus datos por favor: \n",
            "Usuario: \n",
            "tom\n",
            "Contraseña: \n",
            "456\n",
            "Usuario o contraseña invalido!\n"
          ]
        }
      ]
    },
    {
      "cell_type": "code",
      "source": [],
      "metadata": {
        "id": "Bxh-COVrW0X2"
      },
      "execution_count": null,
      "outputs": []
    }
  ]
}