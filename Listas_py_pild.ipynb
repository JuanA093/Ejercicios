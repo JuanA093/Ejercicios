{
  "nbformat": 4,
  "nbformat_minor": 0,
  "metadata": {
    "colab": {
      "provenance": [],
      "authorship_tag": "ABX9TyOo5bLpcI1ludGLpsi29pjW",
      "include_colab_link": true
    },
    "kernelspec": {
      "name": "python3",
      "display_name": "Python 3"
    },
    "language_info": {
      "name": "python"
    }
  },
  "cells": [
    {
      "cell_type": "markdown",
      "metadata": {
        "id": "view-in-github",
        "colab_type": "text"
      },
      "source": [
        "<a href=\"https://colab.research.google.com/github/JuanA093/Ejercicios/blob/main/Listas_py_pild.ipynb\" target=\"_parent\"><img src=\"https://colab.research.google.com/assets/colab-badge.svg\" alt=\"Open In Colab\"/></a>"
      ]
    },
    {
      "cell_type": "code",
      "execution_count": 3,
      "metadata": {
        "colab": {
          "base_uri": "https://localhost:8080/"
        },
        "id": "hNxz0pdZhsBj",
        "outputId": "064bf9b2-98fa-473d-cb47-4edd78950c52"
      },
      "outputs": [
        {
          "output_type": "stream",
          "name": "stdout",
          "text": [
            "('dato1', 'dato2', 'dato3')\n"
          ]
        }
      ],
      "source": [
        "listaPrueba=('dato1', 'dato2', 'dato3')\n",
        "print(listaPrueba)"
      ]
    },
    {
      "cell_type": "code",
      "source": [
        "def Tuplas():\n",
        "  tuplaPrueba=('dato1','dato2','dato3')\n",
        "  miLista=list(tuplaPrueba)\n",
        "  print(tuplaPrueba)\n",
        "Tuplas()"
      ],
      "metadata": {
        "colab": {
          "base_uri": "https://localhost:8080/"
        },
        "id": "U5dZtioij2VS",
        "outputId": "9bf5605a-44ef-4ac7-9003-0815b6e66a3d"
      },
      "execution_count": 9,
      "outputs": [
        {
          "output_type": "stream",
          "name": "stdout",
          "text": [
            "('dato1', 'dato2', 'dato3')\n"
          ]
        }
      ]
    },
    {
      "cell_type": "markdown",
      "source": [
        "***CONVERTIR LISTAS A TUPLAS***"
      ],
      "metadata": {
        "id": "9aLKQSG3yPkq"
      }
    },
    {
      "cell_type": "code",
      "source": [
        "def pruebaTuplas():\n",
        "  miLista=['Tom',1,'Juan', 2, 'Elvirita',3 ]\n",
        "  miTupla=tuple(miLista)\n",
        "  print(miTupla)\n",
        "pruebaTuplas()  "
      ],
      "metadata": {
        "colab": {
          "base_uri": "https://localhost:8080/"
        },
        "id": "D6Roii09xXxy",
        "outputId": "1c1579f1-2bae-44a8-e17a-e2a84f3a9354"
      },
      "execution_count": 6,
      "outputs": [
        {
          "output_type": "stream",
          "name": "stdout",
          "text": [
            "('Tom', 1, 'Juan', 2, 'Elvirita', 3)\n"
          ]
        }
      ]
    },
    {
      "cell_type": "code",
      "source": [
        "def pruebaTuplas():\n",
        "  miLista=['Tom',1,'Juan', 2, 'Elvirita',3 ]\n",
        "  miTupla=tuple(miLista)\n",
        "  print('Elvirita'in miTupla)\n",
        "pruebaTuplas()"
      ],
      "metadata": {
        "colab": {
          "base_uri": "https://localhost:8080/"
        },
        "id": "0NecM0hIyu7p",
        "outputId": "24c79e9d-3a53-48dc-a52e-887f2b8a4b81"
      },
      "execution_count": 9,
      "outputs": [
        {
          "output_type": "stream",
          "name": "stdout",
          "text": [
            "True\n"
          ]
        }
      ]
    },
    {
      "cell_type": "code",
      "source": [
        "def pruebaTuplas():\n",
        "  miLista=['Tom',1,'Juan', 2, 'Elvirita',3 ]\n",
        "  miTupla=tuple(miLista)\n",
        "  print(len(miTupla))\n",
        "pruebaTuplas()"
      ],
      "metadata": {
        "colab": {
          "base_uri": "https://localhost:8080/"
        },
        "id": "7WQOXQzuzfnW",
        "outputId": "222ff28b-6fd9-4f2c-9b6b-9aca3a93b302"
      },
      "execution_count": 15,
      "outputs": [
        {
          "output_type": "stream",
          "name": "stdout",
          "text": [
            "6\n"
          ]
        }
      ]
    },
    {
      "cell_type": "markdown",
      "source": [
        "***DESEMPAQUETADO DE TUPLAS***"
      ],
      "metadata": {
        "id": "qpNjOtb84bQw"
      }
    },
    {
      "cell_type": "code",
      "source": [
        "miTupla=(\"Elvirita\",16,3,1952)\n",
        "nombre, dia, mes, agno=miTupla\n",
        "print(nombre)\n",
        "print(dia)\n",
        "print(agno)\n",
        "print(mes)  "
      ],
      "metadata": {
        "colab": {
          "base_uri": "https://localhost:8080/"
        },
        "id": "XE16dHZy0f84",
        "outputId": "71529b18-6341-4c64-dd0f-f07645a2b27d"
      },
      "execution_count": 2,
      "outputs": [
        {
          "output_type": "stream",
          "name": "stdout",
          "text": [
            "Elvirita\n",
            "16\n",
            "1952\n",
            "3\n"
          ]
        }
      ]
    }
  ]
}