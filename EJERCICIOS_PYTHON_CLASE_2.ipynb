{
  "nbformat": 4,
  "nbformat_minor": 0,
  "metadata": {
    "colab": {
      "provenance": [],
      "collapsed_sections": [],
      "authorship_tag": "ABX9TyPjSFu27RPh2vtBF5xosXFe",
      "include_colab_link": true
    },
    "kernelspec": {
      "name": "python3",
      "display_name": "Python 3"
    },
    "language_info": {
      "name": "python"
    }
  },
  "cells": [
    {
      "cell_type": "markdown",
      "metadata": {
        "id": "view-in-github",
        "colab_type": "text"
      },
      "source": [
        "<a href=\"https://colab.research.google.com/github/JuanA093/Ejercicios/blob/main/EJERCICIOS_PYTHON_CLASE_2.ipynb\" target=\"_parent\"><img src=\"https://colab.research.google.com/assets/colab-badge.svg\" alt=\"Open In Colab\"/></a>"
      ]
    },
    {
      "cell_type": "markdown",
      "source": [
        "***Ejercicio 1***"
      ],
      "metadata": {
        "id": "2AJl9se7LAe2"
      }
    },
    {
      "cell_type": "code",
      "source": [],
      "metadata": {
        "id": "FT_gnPjWchA2"
      },
      "execution_count": null,
      "outputs": []
    },
    {
      "cell_type": "code",
      "source": [
        "def ejercicioDivisa():\n",
        "    moneda={\"Euro\":'€',\"Dollar\":'$',\"Yen\":'Y' }\n",
        "    print()\n",
        "    n=input(\"Sr. Usuario, por favor ingrese una divisa: \")\n",
        "\n",
        "    if n in moneda:\n",
        "        print(\"Sr. Usuario, la divisa escogida es: \",moneda[n])\n",
        "    else:\n",
        "        print(\"La divisa no es valida, digite nuevamente. \")\n",
        "\n",
        "ejercicioDivisa()"
      ],
      "metadata": {
        "id": "WoN8FDcJK-HC"
      },
      "execution_count": null,
      "outputs": []
    },
    {
      "cell_type": "markdown",
      "source": [
        "***Ejercicio 2***"
      ],
      "metadata": {
        "id": "uPCUKH79JOEQ"
      }
    },
    {
      "cell_type": "code",
      "source": [
        "def ejercicioDatos():\n",
        "    print(\"*****Bienvenido a su programa de datos*****\")\n",
        "    print()\n",
        "    nombre=input(\"Por favor ingrese su nombre: \")\n",
        "    print()\n",
        "    edad=int(input(\"Por favor ingrese su edad: \"))\n",
        "    print()\n",
        "    direccion=input(\"Por favor ingrese su direccion: \")\n",
        "    print()\n",
        "    telefono=int(input(\"Por favor ingrese su # de telefono: \"))\n",
        "    datos={\"Nombre\":nombre, \"Edad\":edad, \"Direccion\":direccion, \"Telefono\":telefono}\n",
        "\n",
        "    print(datos[\"Nombre\"],\"Tiene\",datos[\"Edad\"],\"años, vive en: \",datos[\"Direccion\"],\"y su numero de telefono es: \",datos[\"Telefono\"])\n",
        "\n",
        "ejercicioDatos()"
      ],
      "metadata": {
        "id": "69-6YfxqJF2Y"
      },
      "execution_count": null,
      "outputs": []
    },
    {
      "cell_type": "markdown",
      "source": [
        "***Ejercicio 3***"
      ],
      "metadata": {
        "id": "4sN53OvuI9fZ"
      }
    },
    {
      "cell_type": "code",
      "execution_count": null,
      "metadata": {
        "colab": {
          "base_uri": "https://localhost:8080/"
        },
        "id": "J9RPAP-9CX6L",
        "outputId": "ce66eae8-0da3-48a6-921d-409d3e214f1c"
      },
      "outputs": [
        {
          "output_type": "stream",
          "name": "stdout",
          "text": [
            "¿Qué fruta quieres? Platano\n",
            "¿Cuántos kilos? 5\n",
            "Lo siento, la fruta Platano no está disponible.\n"
          ]
        }
      ],
      "source": [
        "def ejercicioFrutas():\n",
        "  fruits = {'Plátano':1.35, 'Manzana':0.8, 'Pera':0.85, 'Naranja':0.7}\n",
        "  fruit = input('¿Qué fruta quieres? ').title()\n",
        "  kg = float(input('¿Cuántos kilos? '))\n",
        "  if fruit in fruits:\n",
        "    print(kg, 'kilos de', fruit, 'valen', fruits[fruit]*kg )\n",
        "  else: \n",
        "    print(\"Lo siento, la fruta\", fruit, \"no está disponible.\")\n",
        "ejercicioFrutas()    "
      ]
    },
    {
      "cell_type": "markdown",
      "source": [
        "***Ejercicio 4***"
      ],
      "metadata": {
        "id": "Zal_rpaGKKCM"
      }
    },
    {
      "cell_type": "code",
      "source": [
        "def ejercicioCompras():\n",
        "  articulo={}\n",
        "  continuar=True\n",
        "  total=0\n",
        "  while continuar:\n",
        "\n",
        "    producto=input(\"Sr. Usuario, ingrese el articulo por favor: \")\n",
        "    precio=float(input(\"Sr. Usuario, ingrese el precio de --> \"+producto+' '))\n",
        "    articulo[producto]=precio\n",
        "    print()\n",
        "    continuar=int(input(\"¿Desea continuar agregando articulos? Si=1, para finalizar, digite cualquier valor: \"))\n",
        "    total= total + articulo[producto]\n",
        "    if (continuar==1):\n",
        "      continue\n",
        "\n",
        "    else:\n",
        "      print(\"El total de su compra es: \",total)     \n",
        "\n",
        "      break\n",
        "\n",
        "    \n",
        "ejercicioCompras()\n",
        "\n"
      ],
      "metadata": {
        "colab": {
          "base_uri": "https://localhost:8080/"
        },
        "id": "uS9x2eUUKJbc",
        "outputId": "7568be79-f5c1-4cb5-aa47-1edc97141af5"
      },
      "execution_count": null,
      "outputs": [
        {
          "output_type": "stream",
          "name": "stdout",
          "text": [
            "Sr. Usuario, ingrese el articulo por favor: pc\n",
            "Sr. Usuario, ingrese el precio de --> pc 200\n",
            "\n",
            "¿Desea coninuar agregando articulos? Si=1, para finalizar, digite cualquier valor: 1\n",
            "Sr. Usuario, ingrese el articulo por favor: pccc\n",
            "Sr. Usuario, ingrese el precio de --> pccc 3000\n",
            "\n",
            "¿Desea coninuar agregando articulos? Si=1, para finalizar, digite cualquier valor: 3\n",
            "El total de su compra es:  3200.0\n"
          ]
        }
      ]
    },
    {
      "cell_type": "markdown",
      "source": [
        "**Ejercicio 5**"
      ],
      "metadata": {
        "id": "D61-rRa4FF2Q"
      }
    },
    {
      "cell_type": "code",
      "source": [
        "clients = {}\n",
        "option = ''\n",
        "while option != '6':\n",
        "    if option == '1':\n",
        "        nif = input('Introduce NIF del cliente: ')\n",
        "        name = input('Introduce el nombre del cliente: ')\n",
        "        address = input('Introduce la dirección del cliente: ')\n",
        "        phone = input('Introduce el teléfono del cliente: ')\n",
        "        email = input('Introduce el correo electrónico del cliente: ')\n",
        "        vip = input('¿Es un cliente preferente (S/N)? ')\n",
        "        client = {'nombre':name, 'dirección':address, 'teléfono':phone, 'email':email, 'preferente':vip=='S'}\n",
        "        clients[nif] = client\n",
        "    if option == '2':\n",
        "        nif = input('Introduce NIF del cliente: ')\n",
        "        if nif in clients:\n",
        "            del clients[nif]\n",
        "        else:\n",
        "            print('No existe el cliente con el nif', nif)\n",
        "    if option == '3':\n",
        "        nif = input('Introduce NIF del cliente: ')\n",
        "        if nif in clients:\n",
        "            print('NIF:', nif)\n",
        "            for key, value in clients[nif].items():\n",
        "                print(key.title() + ':', value)\n",
        "        else:\n",
        "            print('No existe el cliente con el nif', nif)\n",
        "    if option == '4':\n",
        "        print('Lista de clientes')\n",
        "        for key, value in clients.items():\n",
        "            print(key, value['nombre'])\n",
        "    if option == '5':\n",
        "        print('Lista de clientes preferentes')\n",
        "        for key, value in clients.items():\n",
        "            if value['preferente']:\n",
        "                print(key, value['nombre'])\n",
        "    option = input('Menú de opciones\\n(1) Añadir cliente\\n(2) Eliminar cliente\\n(3) Mostrar cliente\\n(4) Listar clientes\\n(5) Listar clientes preferentes\\n(6) Terminar\\nElige una opción:')"
      ],
      "metadata": {
        "colab": {
          "base_uri": "https://localhost:8080/"
        },
        "id": "dZqsJkX7FPE2",
        "outputId": "6f0408ea-f6dc-43bb-dd78-4506bb448107"
      },
      "execution_count": 1,
      "outputs": [
        {
          "name": "stdout",
          "output_type": "stream",
          "text": [
            "Menú de opciones\n",
            "(1) Añadir cliente\n",
            "(2) Eliminar cliente\n",
            "(3) Mostrar cliente\n",
            "(4) Listar clientes\n",
            "(5) Listar clientes preferentes\n",
            "(6) Terminar\n",
            "Elige una opción:1\n",
            "Introduce NIF del cliente: 234\n",
            "Introduce el nombre del cliente: Jonas\n",
            "Introduce la dirección del cliente: av cali\n",
            "Introduce el teléfono del cliente: 302\n",
            "Introduce el correo electrónico del cliente: abvc@\n",
            "¿Es un cliente preferente (S/N)? N\n",
            "Menú de opciones\n",
            "(1) Añadir cliente\n",
            "(2) Eliminar cliente\n",
            "(3) Mostrar cliente\n",
            "(4) Listar clientes\n",
            "(5) Listar clientes preferentes\n",
            "(6) Terminar\n",
            "Elige una opción:6\n"
          ]
        }
      ]
    }
  ]
}