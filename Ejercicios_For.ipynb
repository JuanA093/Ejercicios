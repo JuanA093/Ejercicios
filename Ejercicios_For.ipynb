{
  "nbformat": 4,
  "nbformat_minor": 0,
  "metadata": {
    "colab": {
      "provenance": [],
      "authorship_tag": "ABX9TyMJO1cnDrvG1cObZkXiEFqO",
      "include_colab_link": true
    },
    "kernelspec": {
      "name": "python3",
      "display_name": "Python 3"
    },
    "language_info": {
      "name": "python"
    }
  },
  "cells": [
    {
      "cell_type": "markdown",
      "metadata": {
        "id": "view-in-github",
        "colab_type": "text"
      },
      "source": [
        "<a href=\"https://colab.research.google.com/github/JuanA093/Ejercicios/blob/main/Ejercicios_For.ipynb\" target=\"_parent\"><img src=\"https://colab.research.google.com/assets/colab-badge.svg\" alt=\"Open In Colab\"/></a>"
      ]
    },
    {
      "cell_type": "code",
      "execution_count": null,
      "metadata": {
        "colab": {
          "base_uri": "https://localhost:8080/"
        },
        "id": "4SsiTWajrTlT",
        "outputId": "702cc495-3f7f-4f93-aa01-e317dd03cc84"
      },
      "outputs": [
        {
          "output_type": "stream",
          "name": "stdout",
          "text": [
            "Por favor ingrese una palabra: Juank \n",
            "Juank \n",
            "Juank \n",
            "Juank \n",
            "Juank \n",
            "Juank \n",
            "Juank \n",
            "Juank \n",
            "Juank \n",
            "Juank \n",
            "Juank \n"
          ]
        }
      ],
      "source": [
        "def bucle():\n",
        "  word=input(\"Por favor ingrese una palabra: \")\n",
        "\n",
        "  for i in range(10):\n",
        "    print(word)\n",
        "bucle()  "
      ]
    },
    {
      "cell_type": "code",
      "source": [
        "edad=int(input(\"Por favor ingrese su edad: \"))\n",
        "\n",
        "for i in range(edad):\n",
        "  print(\"Has cumplido \" + str(i+1) + \" años \")"
      ],
      "metadata": {
        "colab": {
          "base_uri": "https://localhost:8080/"
        },
        "id": "nCThIVjbs6ZU",
        "outputId": "a4b62f99-1b75-47bb-c707-bbc13f11af2a"
      },
      "execution_count": 9,
      "outputs": [
        {
          "output_type": "stream",
          "name": "stdout",
          "text": [
            "Por favor ingrese su edad: 21\n",
            "Has cumplido 1 años \n",
            "Has cumplido 2 años \n",
            "Has cumplido 3 años \n",
            "Has cumplido 4 años \n",
            "Has cumplido 5 años \n",
            "Has cumplido 6 años \n",
            "Has cumplido 7 años \n",
            "Has cumplido 8 años \n",
            "Has cumplido 9 años \n",
            "Has cumplido 10 años \n",
            "Has cumplido 11 años \n",
            "Has cumplido 12 años \n",
            "Has cumplido 13 años \n",
            "Has cumplido 14 años \n",
            "Has cumplido 15 años \n",
            "Has cumplido 16 años \n",
            "Has cumplido 17 años \n",
            "Has cumplido 18 años \n",
            "Has cumplido 19 años \n",
            "Has cumplido 20 años \n",
            "Has cumplido 21 años \n"
          ]
        }
      ]
    },
    {
      "cell_type": "code",
      "source": [
        "numero=int(input(\"Por favor ingrese un numero entero positivo: \"))\n",
        "for i in range(1,numero+1,2):\n",
        "  print(i, end=\", \")"
      ],
      "metadata": {
        "colab": {
          "base_uri": "https://localhost:8080/"
        },
        "id": "Gx4uv4Hhtz3x",
        "outputId": "e0382d54-bda2-4ac0-f66c-1371eef7d255"
      },
      "execution_count": 2,
      "outputs": [
        {
          "output_type": "stream",
          "name": "stdout",
          "text": [
            "Por favor ingrese un numero entero positivo: 23\n",
            "1, 3, 5, 7, 9, 11, 13, 15, 17, 19, 21, 23, "
          ]
        }
      ]
    },
    {
      "cell_type": "code",
      "source": [
        "numero=int(input(\"Por favor ingrese un numero entero positivo: \"))\n",
        "for i in range(numero,-1,-1):\n",
        "  print(i, end=\", \")"
      ],
      "metadata": {
        "colab": {
          "base_uri": "https://localhost:8080/"
        },
        "id": "oGoxM2Z9umJG",
        "outputId": "b816c471-ea63-4e4c-880a-620aab7a1af7"
      },
      "execution_count": 6,
      "outputs": [
        {
          "output_type": "stream",
          "name": "stdout",
          "text": [
            "Por favor ingrese un numero entero positivo: 22\n",
            "22, 21, 20, 19, 18, 17, 16, 15, 14, 13, 12, 11, 10, 9, 8, 7, 6, 5, 4, 3, 2, 1, 0, "
          ]
        }
      ]
    }
  ]
}