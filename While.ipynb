{
  "nbformat": 4,
  "nbformat_minor": 0,
  "metadata": {
    "colab": {
      "provenance": [],
      "authorship_tag": "ABX9TyPIzQgSDXKJyxFwjw3X5QrD",
      "include_colab_link": true
    },
    "kernelspec": {
      "name": "python3",
      "display_name": "Python 3"
    },
    "language_info": {
      "name": "python"
    }
  },
  "cells": [
    {
      "cell_type": "markdown",
      "metadata": {
        "id": "view-in-github",
        "colab_type": "text"
      },
      "source": [
        "<a href=\"https://colab.research.google.com/github/JuanA093/Ejercicios/blob/main/While.ipynb\" target=\"_parent\"><img src=\"https://colab.research.google.com/assets/colab-badge.svg\" alt=\"Open In Colab\"/></a>"
      ]
    },
    {
      "cell_type": "markdown",
      "source": [
        "***BUCLE WHILE***"
      ],
      "metadata": {
        "id": "ajQ9YCtHwBKS"
      }
    },
    {
      "cell_type": "code",
      "execution_count": 1,
      "metadata": {
        "colab": {
          "base_uri": "https://localhost:8080/"
        },
        "id": "H7f8djMlv98o",
        "outputId": "b9034631-cb7c-43e9-f6b3-2263550b47bf"
      },
      "outputs": [
        {
          "output_type": "stream",
          "name": "stdout",
          "text": [
            "Ejecucion 1\n",
            "Ejecucion 2\n",
            "Ejecucion 3\n",
            "Ejecucion 4\n",
            "Ejecucion 5\n",
            "Ejecucion 6\n",
            "Ejecucion 7\n",
            "Ejecucion 8\n",
            "Ejecucion 9\n",
            "Ejecucion 10\n",
            "Termino la ejecucion\n"
          ]
        }
      ],
      "source": [
        "i=1\n",
        "\n",
        "while i<=10:\n",
        "  print(\"Ejecucion \"+str(i))\n",
        "  i=i+1\n",
        "print(\"Termino la ejecucion\")  "
      ]
    },
    {
      "cell_type": "code",
      "source": [
        "edad=int(input(\"Introduzca su edad \"))\n",
        "while edad<5 or edad>100:\n",
        "  print(\"Haz introducido una edad incorrecta, vuelve a digitar \")\n",
        "  edad=int(input(\"Introduce tu edad por favor: \"))\n",
        "print(\"Gracias por colaborar, puedes pasar\")\n",
        "print(\"Edad del aspirante \" + str(edad))\n"
      ],
      "metadata": {
        "colab": {
          "base_uri": "https://localhost:8080/"
        },
        "id": "9A4Zwx6hcIKK",
        "outputId": "aea1481a-9563-4673-eb16-3895f7024c63"
      },
      "execution_count": 10,
      "outputs": [
        {
          "output_type": "stream",
          "name": "stdout",
          "text": [
            "Introduzca su edad 89\n",
            "Gracias por colaborar, puedes pasar\n",
            "Edad del aspirante 89\n"
          ]
        }
      ]
    },
    {
      "cell_type": "code",
      "source": [
        "import math\n",
        "print(\"*****Programa de calculo de raiz cuadrada*****\")\n",
        "numero=int(input(\"Por favor introduzca el numero a operar: \"))\n",
        "\n",
        "contador=0\n",
        "\n",
        "while numero<0:\n",
        "  print(\"No se puede hallar la raiz de un numero negativo\")\n",
        "\n",
        "  if contador ==2:\n",
        "    print(\"Haz consumido demasiados intentos, el programa ha finalizado\")\n",
        "    break;\n",
        "  numero=int(input(\"Por favor introduzca el numero a operar: \"))\n",
        "  if numero<0:\n",
        "    contador=contador+1\n",
        "if contador<2:\n",
        "  solucion=math.sqrt(numero)\n",
        "  print(\"La raiz cuadrada de \" + str(numero) + \" es \" + str(solucion))      "
      ],
      "metadata": {
        "colab": {
          "base_uri": "https://localhost:8080/"
        },
        "id": "mJIUjGVAkeqf",
        "outputId": "5be6b6c1-8aaa-464b-e367-91ef57b4e21d"
      },
      "execution_count": 21,
      "outputs": [
        {
          "output_type": "stream",
          "name": "stdout",
          "text": [
            "*****Programa de calculo de raiz cuadrada*****\n",
            "Por favor introduzca el numero a operar: -25\n",
            "No se puede hallar la raiz de un numero negativo\n",
            "Por favor introduzca el numero a operar: 25\n",
            "La raiz cuadrada de 25 es 5.0\n"
          ]
        }
      ]
    }
  ]
}