{
  "nbformat": 4,
  "nbformat_minor": 0,
  "metadata": {
    "colab": {
      "provenance": [],
      "authorship_tag": "ABX9TyN81UEwPXVxMVmgXmkC/BV7",
      "include_colab_link": true
    },
    "kernelspec": {
      "name": "python3",
      "display_name": "Python 3"
    },
    "language_info": {
      "name": "python"
    }
  },
  "cells": [
    {
      "cell_type": "markdown",
      "metadata": {
        "id": "view-in-github",
        "colab_type": "text"
      },
      "source": [
        "<a href=\"https://colab.research.google.com/github/JuanA093/Ejercicios/blob/main/Listas_python.ipynb\" target=\"_parent\"><img src=\"https://colab.research.google.com/assets/colab-badge.svg\" alt=\"Open In Colab\"/></a>"
      ]
    },
    {
      "cell_type": "code",
      "execution_count": null,
      "metadata": {
        "colab": {
          "base_uri": "https://localhost:8080/",
          "height": 130
        },
        "id": "nPOu3pLkJF5-",
        "outputId": "b40da24e-e49e-4b8b-e46b-a415fe1a05c7"
      },
      "outputs": [
        {
          "output_type": "error",
          "ename": "SyntaxError",
          "evalue": "ignored",
          "traceback": [
            "\u001b[0;36m  File \u001b[0;32m\"<ipython-input-1-9c04cf033fae>\"\u001b[0;36m, line \u001b[0;32m1\u001b[0m\n\u001b[0;31m    def vector\u001b[0m\n\u001b[0m              ^\u001b[0m\n\u001b[0;31mSyntaxError\u001b[0m\u001b[0;31m:\u001b[0m invalid syntax\n"
          ]
        }
      ],
      "source": [
        "def vector\n",
        "v1= [x1,x2,x3]\n",
        "v2=[y, y2, y3]"
      ]
    },
    {
      "cell_type": "code",
      "source": [
        "def vector():\n",
        "  v1Str=input(\"Ingrese el primer valor del vector separado por comas: \")\n",
        "  v1= v1Str.split(',')\n",
        "  v1= [float(element) for element in v1]\n",
        "  v2Str=input(\"Ingrese el segundo valor del vector separado por comas : \")\n",
        "  v2= v2Str.split(',')\n",
        "  v2= [float(element)for element in v2]\n",
        "  \n",
        "  print(v1)\n",
        "  print(v2)\n",
        "\n",
        "vector()\n"
      ],
      "metadata": {
        "colab": {
          "base_uri": "https://localhost:8080/"
        },
        "id": "WMlF_yueLHxQ",
        "outputId": "170c3c27-0bda-4147-b2c3-902d331f3af3"
      },
      "execution_count": null,
      "outputs": [
        {
          "output_type": "stream",
          "name": "stdout",
          "text": [
            "Ingrese el primer valor del vector separado por comas: 2,2.3,5.4\n",
            "Ingrese el segundo valor del vector: 4,5,2.5,3\n",
            "[2.0, 2.3, 5.4]\n",
            "[4.0, 5.0, 2.5, 3.0]\n"
          ]
        }
      ]
    },
    {
      "cell_type": "code",
      "source": [
        "import numpy as np\n",
        "\n",
        "def operacion():\n",
        " \n",
        "  lista=[]\n",
        "  while True:\n",
        "    val=input(\"Ingrese un valor o fin: \")\n",
        "    if val.lower()=='fin':\n",
        "        print(\"Ejecucion terminada\")\n",
        "        break\n",
        "        \n",
        "    else:\n",
        "      lista.append(float(val))\n",
        "operacion()"
      ],
      "metadata": {
        "colab": {
          "base_uri": "https://localhost:8080/"
        },
        "id": "1StS7CxwUo75",
        "outputId": "e1cc0abd-516a-4307-b696-0a26ba9908c6"
      },
      "execution_count": null,
      "outputs": [
        {
          "output_type": "stream",
          "name": "stdout",
          "text": [
            "Ingrese un valor o fin: fin\n",
            "Ejecucion terminada\n"
          ]
        }
      ]
    }
  ]
}