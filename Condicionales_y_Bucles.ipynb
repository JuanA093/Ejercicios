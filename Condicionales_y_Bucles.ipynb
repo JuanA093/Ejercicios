{
  "nbformat": 4,
  "nbformat_minor": 0,
  "metadata": {
    "colab": {
      "provenance": [],
      "authorship_tag": "ABX9TyM+n/E/7yX6FUpcnd+73lkj",
      "include_colab_link": true
    },
    "kernelspec": {
      "name": "python3",
      "display_name": "Python 3"
    },
    "language_info": {
      "name": "python"
    }
  },
  "cells": [
    {
      "cell_type": "markdown",
      "metadata": {
        "id": "view-in-github",
        "colab_type": "text"
      },
      "source": [
        "<a href=\"https://colab.research.google.com/github/JuanA093/Ejercicios/blob/main/Condicionales_y_Bucles.ipynb\" target=\"_parent\"><img src=\"https://colab.research.google.com/assets/colab-badge.svg\" alt=\"Open In Colab\"/></a>"
      ]
    },
    {
      "cell_type": "markdown",
      "source": [
        "***ESTRUCTURA CONDICIONAL-BUCLES***"
      ],
      "metadata": {
        "id": "4htWa5lJs3Ay"
      }
    },
    {
      "cell_type": "code",
      "execution_count": null,
      "metadata": {
        "colab": {
          "base_uri": "https://localhost:8080/"
        },
        "id": "r7i3OUBzs2ad",
        "outputId": "074268d1-4163-41d3-a2e3-982ac6e5962b"
      },
      "outputs": [
        {
          "output_type": "stream",
          "name": "stdout",
          "text": [
            "*****Bienvenido a su aplicativo de calculo de notas****\n",
            "\n",
            "Por favor ingrese los siguientes datos:\n",
            "\n",
            "Sr Usuario, por favor digite la nota 1 para continuar:  4.5\n",
            "Sr Usuario, por favor digite la nota 2 para continuar:  3.8\n",
            "Sr Usuario, por favor digite la nota 3 para continuar:  4.0\n",
            "Sr. Usuario, usted aprobo la materia con:  4.1000000000000005 Felicidades!!!\n"
          ]
        }
      ],
      "source": [
        "def Evaluacion():\n",
        "  print(\"*****Bienvenido a su aplicativo de calculo de notas****\")\n",
        "  print()\n",
        "  print(\"Por favor ingrese los siguientes datos:\")\n",
        "  print()\n",
        "  dato1=(float(input(\"Sr Usuario, por favor digite la nota 1 para continuar:  \")))\n",
        "  dato2=(float(input(\"Sr Usuario, por favor digite la nota 2 para continuar:  \")))\n",
        "  dato3=(float(input(\"Sr Usuario, por favor digite la nota 3 para continuar:  \")))\n",
        "\n",
        "  promedioN= dato1 + dato2 + dato3\n",
        "  notaF= promedioN / 3\n",
        "  if notaF < 3.0:\n",
        "    print(\"Sr. Usuario, usted reprobo la materia con: \",notaF)\n",
        "  elif  notaF >= 3.0:\n",
        "    print(\"Sr. Usuario, usted aprobo la materia con: \",notaF, \"Felicidades!!!\")\n",
        "\n",
        " \n",
        " \n",
        "\n",
        "  \n",
        "\n",
        "Evaluacion()"
      ]
    },
    {
      "cell_type": "code",
      "source": [
        "def notas():\n",
        "  nota1=(float(input(\"Ingrese el valor de la nota 1: \")))\n",
        "  print(\"Su nota es: \",nota1)\n",
        "\n",
        "notas()\n",
        "\n"
      ],
      "metadata": {
        "colab": {
          "base_uri": "https://localhost:8080/"
        },
        "id": "U04YLPAzAIo-",
        "outputId": "05d793c8-a70d-4668-9dae-ccfd88dfa9e4"
      },
      "execution_count": 4,
      "outputs": [
        {
          "output_type": "stream",
          "name": "stdout",
          "text": [
            "Ingrese el valor de la nota1: 5.0\n",
            "Su nota es:  5.0\n"
          ]
        }
      ]
    },
    {
      "cell_type": "code",
      "source": [],
      "metadata": {
        "id": "z93b-IyJLVej"
      },
      "execution_count": null,
      "outputs": []
    },
    {
      "cell_type": "code",
      "source": [
        "def rango_edad():\n",
        "  print(\"*****Bienvenido a su programa para controlar la entrada a su establecimiento*****\")\n",
        "  print()\n",
        "  edad=(float(input(\"Sr. Usuario, por favor introduzca la edad a calcular: \")))\n",
        "  print()\n",
        "  if edad >= 18:\n",
        "    print(\"Acceso permitido, Bienvenido!\")\n",
        "  elif edad >= 100:\n",
        "    print(\"Edad incorrecta, vuleve a digitar por favor: \")  \n",
        "  else:\n",
        "    print(\"Acceso denegado, edad insuficiente\")\n",
        "  print()\n",
        "  print(\"*****Gracias por utilizar nuestro sistema, hasta pronto!*****\")   \n",
        "\n",
        "rango_edad()"
      ],
      "metadata": {
        "colab": {
          "base_uri": "https://localhost:8080/"
        },
        "id": "bGQbguTuEH8y",
        "outputId": "6bdc6ef5-f0be-491c-8c24-4aef2be255d5"
      },
      "execution_count": 18,
      "outputs": [
        {
          "output_type": "stream",
          "name": "stdout",
          "text": [
            "*****Bienvenido a su programa para controlar la entrada a su establecimiento*****\n",
            "\n",
            "Sr. Usuario, por favor introduzca la edad a calcular: 14\n",
            "\n",
            "Acceso denegado, edad insuficiente\n",
            "\n",
            "*****Gracias por utilizar nuestro sistema, hasta pronto!*****\n"
          ]
        }
      ]
    },
    {
      "cell_type": "code",
      "source": [
        "def Verificacion_notas():\n",
        "  nota=(float(input(\"Sr. Usuario por favor introduzca la primera nota para continuar: \")))\n",
        "  if nota >= 5:\n",
        "    print(\"Felicitaciones aprobo la materia con\", nota, \"Sobresaliente\")\n",
        "  elif nota >= 4:\n",
        "     print(\"Felicitaciones aprobo la materia con\", nota, \"Excelente\")\n",
        "  elif nota >= 3:\n",
        "     print(\"Felicitaciones aprobo la materia con\", nota, \"bien\")\n",
        "  elif nota >= 2 and nota < 3:\n",
        "     print(\"Lo siento, reprobo la materia con: \", nota, \"Insuficiente\")       \n",
        "  elif nota <= 2 and nota >1:\n",
        "     print(\"Lo siento, reprobo la materia con: \", nota, \"Insuficiente\")    \n",
        "  elif nota <= 1 and nota >0:\n",
        "     print(\"Lo siento, reprobo la materia con: \", nota, \"Insuficiente\")   \n",
        "Verificacion_notas()"
      ],
      "metadata": {
        "colab": {
          "base_uri": "https://localhost:8080/"
        },
        "id": "OU0EYWg7Ll5J",
        "outputId": "73bd298c-e4a7-4b22-d062-d2f123b8eefa"
      },
      "execution_count": 4,
      "outputs": [
        {
          "output_type": "stream",
          "name": "stdout",
          "text": [
            "Sr. Usuario por favor introduzca la primera nota para continuar: 0.3\n",
            "Lo siento, reprobo la materia con:  0.3 Insuficiente\n"
          ]
        }
      ]
    },
    {
      "cell_type": "markdown",
      "source": [
        "***Ejercicios***\n",
        "\n"
      ],
      "metadata": {
        "id": "G0RmR2WHYJN7"
      }
    },
    {
      "cell_type": "code",
      "source": [
        "def ejercicio():\n",
        "  print(\"*****Bienvenido a su programa de datos*****\")\n",
        "  print()\n",
        "  nombre=input(\"Por favor introduzca su nombre a continuacion: \")\n",
        "  print()\n",
        "  direccion=input(\"Por favor introduzca su direccion a continuacion: \")\n",
        "  print()\n",
        "  telefono=input(\"Por favor introduzca su telefono a continuacion: \")\n",
        "  lista_datos=[nombre, direccion, telefono]\n",
        "  print(\"Sr. Usuario, los datos introducidos son: \",lista_datos)\n",
        "\n",
        "ejercicio()  \n"
      ],
      "metadata": {
        "colab": {
          "base_uri": "https://localhost:8080/"
        },
        "id": "GyWH4FUIQnc1",
        "outputId": "e24205e3-ec95-4822-e47c-19cb7dcc97d4"
      },
      "execution_count": 6,
      "outputs": [
        {
          "output_type": "stream",
          "name": "stdout",
          "text": [
            "*****Bienvenido a su programa de datos*****\n",
            "\n",
            "Por favor introduzca su nombre a continuacion: Juan\n",
            "\n",
            "Por favor introduzca su direccion a continuacion: Cra 16a No. 48-60\n",
            "\n",
            "Por favor introduzca su telefono a continuacion: 3024644972\n",
            "Sr. Usuario, los datos introducidos son:  ['Juan', 'Cra 16a No. 48-60', '3024644972']\n"
          ]
        }
      ]
    },
    {
      "cell_type": "code",
      "source": [
        "import numpy as np\n",
        "\n",
        "def ejercicio2():\n",
        " dato1=float(input(\"Sr. Usuario, introduzca el primer numero: \")) \n",
        " dato2=float(input(\"Sr. Usuario, introduzca el segundo numero: \")) \n",
        " dato3=float(input(\"Sr. Usuario, introduzca el tercer numero: \"))\n",
        " media= (dato1 + dato2 + dato3)/3\n",
        " print(\"La media aritmetica de los datos introducidos es: \",media)\n",
        "\n",
        "ejercicio2()"
      ],
      "metadata": {
        "colab": {
          "base_uri": "https://localhost:8080/"
        },
        "id": "HPBiDPfLSrlP",
        "outputId": "8586743c-5a88-4ab0-eec0-523dd4f13907"
      },
      "execution_count": 5,
      "outputs": [
        {
          "output_type": "stream",
          "name": "stdout",
          "text": [
            "Sr. Usuario, introduzca el primer numero: 2\n",
            "Sr. Usuario, introduzca el segundo numero: 4\n",
            "Sr. Usuario, introduzca el tercer numero: 6\n",
            "La media aritmetica de los datos introducidos es:  4.0\n"
          ]
        }
      ]
    }
  ]
}