{
  "nbformat": 4,
  "nbformat_minor": 0,
  "metadata": {
    "colab": {
      "provenance": [],
      "authorship_tag": "ABX9TyP0LESRGdtpXW/VvI4XNvWW",
      "include_colab_link": true
    },
    "kernelspec": {
      "name": "python3",
      "display_name": "Python 3"
    },
    "language_info": {
      "name": "python"
    }
  },
  "cells": [
    {
      "cell_type": "markdown",
      "metadata": {
        "id": "view-in-github",
        "colab_type": "text"
      },
      "source": [
        "<a href=\"https://colab.research.google.com/github/JuanA093/Ejercicios/blob/main/Condicionales_y_Bucles.ipynb\" target=\"_parent\"><img src=\"https://colab.research.google.com/assets/colab-badge.svg\" alt=\"Open In Colab\"/></a>"
      ]
    },
    {
      "cell_type": "markdown",
      "source": [
        "***ESTRUCTURA CONDICIONAL-BUCLES***"
      ],
      "metadata": {
        "id": "4htWa5lJs3Ay"
      }
    },
    {
      "cell_type": "code",
      "execution_count": 7,
      "metadata": {
        "colab": {
          "base_uri": "https://localhost:8080/"
        },
        "id": "r7i3OUBzs2ad",
        "outputId": "074268d1-4163-41d3-a2e3-982ac6e5962b"
      },
      "outputs": [
        {
          "output_type": "stream",
          "name": "stdout",
          "text": [
            "*****Bienvenido a su aplicativo de calculo de notas****\n",
            "\n",
            "Por favor ingrese los siguientes datos:\n",
            "\n",
            "Sr Usuario, por favor digite la nota 1 para continuar:  4.5\n",
            "Sr Usuario, por favor digite la nota 2 para continuar:  3.8\n",
            "Sr Usuario, por favor digite la nota 3 para continuar:  4.0\n",
            "Sr. Usuario, usted aprobo la materia con:  4.1000000000000005 Felicidades!!!\n"
          ]
        }
      ],
      "source": [
        "def Evaluacion():\n",
        "  print(\"*****Bienvenido a su aplicativo de calculo de notas****\")\n",
        "  print()\n",
        "  print(\"Por favor ingrese los siguientes datos:\")\n",
        "  print()\n",
        "  dato1=(float(input(\"Sr Usuario, por favor digite la nota 1 para continuar:  \")))\n",
        "  dato2=(float(input(\"Sr Usuario, por favor digite la nota 2 para continuar:  \")))\n",
        "  dato3=(float(input(\"Sr Usuario, por favor digite la nota 3 para continuar:  \")))\n",
        "\n",
        "  promedioN= dato1 + dato2 + dato3\n",
        "  notaF= promedioN / 3\n",
        "  if notaF < 3.0:\n",
        "    print(\"Sr. Usuario, usted reprobo la materia con: \",notaF)\n",
        "  elif  notaF >= 3.0:\n",
        "    print(\"Sr. Usuario, usted aprobo la materia con: \",notaF, \"Felicidades!!!\")\n",
        "\n",
        " \n",
        " \n",
        "\n",
        "  \n",
        "\n",
        "Evaluacion()"
      ]
    }
  ]
}