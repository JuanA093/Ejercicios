{
  "nbformat": 4,
  "nbformat_minor": 0,
  "metadata": {
    "colab": {
      "provenance": [],
      "authorship_tag": "ABX9TyOESupx8o4ja6AG48zcbk/R",
      "include_colab_link": true
    },
    "kernelspec": {
      "name": "python3",
      "display_name": "Python 3"
    },
    "language_info": {
      "name": "python"
    }
  },
  "cells": [
    {
      "cell_type": "markdown",
      "metadata": {
        "id": "view-in-github",
        "colab_type": "text"
      },
      "source": [
        "<a href=\"https://colab.research.google.com/github/JuanA093/Ejercicios/blob/main/Diccionarios_py_pild.ipynb\" target=\"_parent\"><img src=\"https://colab.research.google.com/assets/colab-badge.svg\" alt=\"Open In Colab\"/></a>"
      ]
    },
    {
      "cell_type": "code",
      "execution_count": 3,
      "metadata": {
        "colab": {
          "base_uri": "https://localhost:8080/"
        },
        "id": "yqRn8NHG5mcF",
        "outputId": "1b97d80b-f0ac-4c34-9fa1-e0b07ac07236"
      },
      "outputs": [
        {
          "output_type": "stream",
          "name": "stdout",
          "text": [
            "Bogota\n"
          ]
        }
      ],
      "source": [
        "miDiccionario={\"Alemania\":\"Berlin\", \"Francia\":\"Paris\",\"Reino Unido\":\"Londres\",\"Colombia\":\"Bogota\"}\n",
        "print(miDiccionario[\"Colombia\"])\n"
      ]
    },
    {
      "cell_type": "code",
      "source": [
        "miDiccionario={\"Alemania\":\"Berlin\", \"Francia\":\"Paris\",\"Reino Unido\":\"Londres\",\"Colombia\":\"Bogota\"}\n",
        "print(miDiccionario)"
      ],
      "metadata": {
        "colab": {
          "base_uri": "https://localhost:8080/"
        },
        "id": "_rx9jkpe-Tyf",
        "outputId": "9082d165-3a2c-4a42-9b0d-70e6516b2501"
      },
      "execution_count": 4,
      "outputs": [
        {
          "output_type": "stream",
          "name": "stdout",
          "text": [
            "{'Alemania': 'Berlin', 'Francia': 'Paris', 'Reino Unido': 'Londres', 'Colombia': 'Bogota'}\n"
          ]
        }
      ]
    },
    {
      "cell_type": "markdown",
      "source": [
        "***AGREGAR Y MODIFICAR DATOS AL DICCIONARIO***"
      ],
      "metadata": {
        "id": "a0A6AIdP_a7c"
      }
    },
    {
      "cell_type": "code",
      "source": [
        "miDiccionario={\"Alemania\":\"Berlin\", \"Francia\":\"Paris\",\"Reino Unido\":\"Londres\",\"Colombia\":\"Bogota\"}\n",
        "miDiccionario[\"Italia\"]=\"Lisboa\"\n",
        "print(miDiccionario)\n",
        "miDiccionario[\"Italia\"]=\"Roma\"\n",
        "print(miDiccionario)"
      ],
      "metadata": {
        "colab": {
          "base_uri": "https://localhost:8080/"
        },
        "id": "IFNVT7wD-cSW",
        "outputId": "24b962bd-1755-4aa6-fa62-a40d7f09a60e"
      },
      "execution_count": 8,
      "outputs": [
        {
          "output_type": "stream",
          "name": "stdout",
          "text": [
            "{'Alemania': 'Berlin', 'Francia': 'Paris', 'Reino Unido': 'Londres', 'Colombia': 'Bogota', 'Italia': 'Lisboa'}\n",
            "{'Alemania': 'Berlin', 'Francia': 'Paris', 'Reino Unido': 'Londres', 'Colombia': 'Bogota', 'Italia': 'Roma'}\n"
          ]
        }
      ]
    },
    {
      "cell_type": "markdown",
      "source": [
        "***ELIMINAR ELEMENTO DEL DICCIONARIO***\n",
        "\n"
      ],
      "metadata": {
        "id": "empLJEnK_1mU"
      }
    },
    {
      "cell_type": "code",
      "source": [
        "miDiccionario={\"Alemania\":\"Berlin\", \"Francia\":\"Paris\",\"Reino Unido\":\"Londres\",\"Colombia\":\"Bogota\"}\n",
        "miDiccionario[\"Italia\"]=\"Lisboa\"\n",
        "print(miDiccionario)\n",
        "miDiccionario[\"Italia\"]=\"Roma\"\n",
        "print(miDiccionario)\n",
        "del(miDiccionario[\"Reino Unido\"])\n",
        "print(miDiccionario)"
      ],
      "metadata": {
        "colab": {
          "base_uri": "https://localhost:8080/"
        },
        "id": "7dqBswqL_j1G",
        "outputId": "a82cecf8-fa71-4419-f22e-d6bc1fa8c837"
      },
      "execution_count": 10,
      "outputs": [
        {
          "output_type": "stream",
          "name": "stdout",
          "text": [
            "{'Alemania': 'Berlin', 'Francia': 'Paris', 'Reino Unido': 'Londres', 'Colombia': 'Bogota', 'Italia': 'Lisboa'}\n",
            "{'Alemania': 'Berlin', 'Francia': 'Paris', 'Reino Unido': 'Londres', 'Colombia': 'Bogota', 'Italia': 'Roma'}\n",
            "{'Alemania': 'Berlin', 'Francia': 'Paris', 'Colombia': 'Bogota', 'Italia': 'Roma'}\n"
          ]
        }
      ]
    },
    {
      "cell_type": "markdown",
      "source": [
        "***DICCIONARIO CON DISTINTOS TIPOS DE DATOS***"
      ],
      "metadata": {
        "id": "k_qMKn4CBIA0"
      }
    },
    {
      "cell_type": "code",
      "source": [
        "miDiccionario={\"Alemania\":\"Berlin\",7: \"El bicho\", \"Mosquetero\":4}\n",
        "print(miDiccionario[7])"
      ],
      "metadata": {
        "colab": {
          "base_uri": "https://localhost:8080/"
        },
        "id": "YismWPkqASsc",
        "outputId": "1cbd757e-6990-457f-ddd4-16b2bc0b7aa9"
      },
      "execution_count": 5,
      "outputs": [
        {
          "output_type": "stream",
          "name": "stdout",
          "text": [
            "El bicho\n"
          ]
        }
      ]
    },
    {
      "cell_type": "code",
      "source": [
        "miLista=[\"España\",\"Francia\", \"UK\", \"Alemania\"]\n",
        "miDiccionario={miLista[0]: \"Madrid\", miLista[1]:\"Paris\", miLista[2]: \"Londres\", miLista[3]:\"Berlin\"}\n",
        "print(miDiccionario)"
      ],
      "metadata": {
        "colab": {
          "base_uri": "https://localhost:8080/"
        },
        "id": "JgPFf2QVBg_K",
        "outputId": "0ad9b401-2837-4ad2-edee-16798781befa"
      },
      "execution_count": 5,
      "outputs": [
        {
          "output_type": "stream",
          "name": "stdout",
          "text": [
            "{'España': 'Madrid', 'Francia': 'Paris', 'UK': 'Londres', 'Alemania': 'Berlin'}\n"
          ]
        }
      ]
    },
    {
      "cell_type": "code",
      "source": [
        "miLista=[\"España\",\"Francia\", \"UK\", \"Alemania\"]\n",
        "miDiccionario={miLista[0]: \"Madrid\", miLista[1]:\"Paris\", miLista[2]: \"Londres\", miLista[3]:\"Berlin\"}\n",
        "print(miDiccionario[miLista[1]])"
      ],
      "metadata": {
        "colab": {
          "base_uri": "https://localhost:8080/"
        },
        "id": "D8s-XPwCDRmA",
        "outputId": "319109e1-c716-4b47-c675-ff612afd5377"
      },
      "execution_count": 6,
      "outputs": [
        {
          "output_type": "stream",
          "name": "stdout",
          "text": [
            "Paris\n"
          ]
        }
      ]
    },
    {
      "cell_type": "code",
      "source": [
        "miDiccionario={7:\"El bicho\", \"Nombre\":\"Cristiano\", \"Equipo\": \"MU\", \"Balones\":[2007,2008,2009,2011,2015]}\n",
        "print(miDiccionario[\"Balones\"])"
      ],
      "metadata": {
        "colab": {
          "base_uri": "https://localhost:8080/"
        },
        "id": "U7O5v96gDUX_",
        "outputId": "607c85de-7088-49f1-9bac-a7d32e72b2e7"
      },
      "execution_count": 5,
      "outputs": [
        {
          "output_type": "stream",
          "name": "stdout",
          "text": [
            "[2007, 2008, 2009, 2011, 2015]\n"
          ]
        }
      ]
    },
    {
      "cell_type": "code",
      "source": [
        "miDiccionario={7:\"El bicho\", \"Nombre\":\"Cristiano\", \"Equipo\": \"MU\", \"Balones\":{\"Temporadas\":[2007,2008,2009,2011,2015]}}\n",
        "print(miDiccionario[\"Balones\"])"
      ],
      "metadata": {
        "colab": {
          "base_uri": "https://localhost:8080/"
        },
        "id": "Hy4wm6pREUaK",
        "outputId": "4ae39eaa-8fa8-418c-a279-7eb6925d478e"
      },
      "execution_count": 6,
      "outputs": [
        {
          "output_type": "stream",
          "name": "stdout",
          "text": [
            "{'Temporadas': [2007, 2008, 2009, 2011, 2015]}\n"
          ]
        }
      ]
    }
  ]
}