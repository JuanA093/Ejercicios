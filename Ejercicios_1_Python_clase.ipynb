{
  "nbformat": 4,
  "nbformat_minor": 0,
  "metadata": {
    "colab": {
      "provenance": [],
      "authorship_tag": "ABX9TyNWj5G2X1hoyV9QNSdfX7pC",
      "include_colab_link": true
    },
    "kernelspec": {
      "name": "python3",
      "display_name": "Python 3"
    },
    "language_info": {
      "name": "python"
    }
  },
  "cells": [
    {
      "cell_type": "markdown",
      "metadata": {
        "id": "view-in-github",
        "colab_type": "text"
      },
      "source": [
        "<a href=\"https://colab.research.google.com/github/JuanA093/Ejercicios/blob/main/Ejercicios_1_Python_clase.ipynb\" target=\"_parent\"><img src=\"https://colab.research.google.com/assets/colab-badge.svg\" alt=\"Open In Colab\"/></a>"
      ]
    },
    {
      "cell_type": "code",
      "execution_count": 5,
      "metadata": {
        "colab": {
          "base_uri": "https://localhost:8080/"
        },
        "id": "Bhs0SHemF4wX",
        "outputId": "4e90dcea-9763-431f-cb03-5d89af638214"
      },
      "outputs": [
        {
          "output_type": "stream",
          "name": "stdout",
          "text": [
            "ingrese la cantidad de materias: 5\n",
            "ingrese el nombre de la materia 1: Calculo\n",
            "ingrese el nombre de la materia 2: Fisica\n",
            "ingrese el nombre de la materia 3: Programacion\n",
            "ingrese el nombre de la materia 4: Bases de datos\n",
            "ingrese el nombre de la materia 5: ingles\n",
            "['Calculo', 'Fisica', 'Programacion', 'Bases de datos', 'ingles']\n"
          ]
        }
      ],
      "source": [
        "listamaterias=[]\n",
        "\n",
        "num_materias=int(input('ingrese la cantidad de materias: '))\n",
        "\n",
        "for i in range(num_materias):\n",
        "  materia=input('ingrese el nombre de la materia '+ str(i+1)+': ')\n",
        "  listamaterias.append(materia)\n",
        "\n",
        "print(listamaterias)"
      ]
    },
    {
      "cell_type": "markdown",
      "source": [
        "**-------------------------**\n"
      ],
      "metadata": {
        "id": "nJmkK7zTGMgf"
      }
    },
    {
      "cell_type": "code",
      "source": [
        "notas=[]\n",
        "\n",
        "for i in range(len(listamaterias)):\n",
        "  while True:\n",
        "    notastring=input(\"ingrese la nota que espera de \"+listamaterias[i]+': ')\n",
        "    notastring=notastring.replace(',','.')\n",
        "    nota=float(notastring)\n",
        "    \n",
        "    if nota>5 or nota<0:\n",
        "      print(\"ingrese una nota valida\")\n",
        "    else: \n",
        "        notas.append(nota)\n",
        "        break\n",
        "\n",
        "print(notas)"
      ],
      "metadata": {
        "colab": {
          "base_uri": "https://localhost:8080/"
        },
        "id": "IK211b3pGP0p",
        "outputId": "f6f994b4-0b4c-4ac5-bebd-c292c994f359"
      },
      "execution_count": 6,
      "outputs": [
        {
          "output_type": "stream",
          "name": "stdout",
          "text": [
            "ingrese la nota que espera de Calculo: 4\n",
            "ingrese la nota que espera de Fisica: 4\n",
            "ingrese la nota que espera de Programacion: 5\n",
            "ingrese la nota que espera de Bases de datos: 4.5\n",
            "ingrese la nota que espera de ingles: 5\n",
            "[4.0, 4.0, 5.0, 4.5, 5.0]\n"
          ]
        }
      ]
    },
    {
      "cell_type": "markdown",
      "source": [
        "**------------------------**"
      ],
      "metadata": {
        "id": "vcaMC8VmHnt9"
      }
    },
    {
      "cell_type": "code",
      "source": [
        "aprobadas=[]\n",
        "reprobadas=[]\n",
        "\n",
        "for i in range(len(listamaterias)):\n",
        "  if notas[i]<3:\n",
        "    reprobadas.append(listamaterias[i])\n",
        "  else:\n",
        "    aprobadas.append(listamaterias[i])\n",
        "\n",
        "print(\"Materias aprobadas\",aprobadas)\n",
        "print(\"Materias reprobadas\",reprobadas)"
      ],
      "metadata": {
        "colab": {
          "base_uri": "https://localhost:8080/"
        },
        "id": "oNn9Rg9aHrEl",
        "outputId": "7486384c-d508-491f-9a96-b4b52f74bf12"
      },
      "execution_count": 7,
      "outputs": [
        {
          "output_type": "stream",
          "name": "stdout",
          "text": [
            "Materias aprobadas ['Calculo', 'Fisica', 'Programacion', 'Bases de datos', 'ingles']\n",
            "Materias reprobadas []\n"
          ]
        }
      ]
    },
    {
      "cell_type": "markdown",
      "source": [
        "**----------------------**"
      ],
      "metadata": {
        "id": "B0rUPC4iH6Ht"
      }
    },
    {
      "cell_type": "code",
      "source": [
        "palabra=input(\"Sr. Usuario, ingrese una palabra: \")\n",
        "palabra=palabra.lower()\n",
        "palabra=palabra.replace(' ','')\n",
        "palabralist=list(palabra)\n",
        "palabralist2=palabralist.copy()\n",
        "palabralist2.reverse()\n",
        "print(palabralist2)\n",
        "print(palabralist)\n",
        "\n",
        "if palabralist == palabralist2:\n",
        "  print(\"es palindromo\")\n",
        "else:\n",
        "  print(\"no es palindromo\")"
      ],
      "metadata": {
        "colab": {
          "base_uri": "https://localhost:8080/"
        },
        "id": "MgRKaw-XH9VE",
        "outputId": "6ee58451-07aa-4b66-d0e0-28af3360f9c2"
      },
      "execution_count": 9,
      "outputs": [
        {
          "output_type": "stream",
          "name": "stdout",
          "text": [
            "Ingrese una palabraSer o no ser\n",
            "['r', 'e', 's', 'o', 'n', 'o', 'r', 'e', 's']\n",
            "['s', 'e', 'r', 'o', 'n', 'o', 's', 'e', 'r']\n",
            "no es palindromo\n"
          ]
        }
      ]
    },
    {
      "cell_type": "markdown",
      "source": [
        "**-----------------------**"
      ],
      "metadata": {
        "id": "D69P6qwjIiz7"
      }
    },
    {
      "cell_type": "code",
      "source": [
        "import numpy as np\n",
        "\n",
        "a = np.array([2,7], float) \n",
        "b = np.array([4,8], float)\n",
        "\n",
        "np.dot(a,b)"
      ],
      "metadata": {
        "colab": {
          "base_uri": "https://localhost:8080/"
        },
        "id": "R9eUtKaVImJk",
        "outputId": "321f90cf-8a87-44c4-ec18-5f9ed8e54bd3"
      },
      "execution_count": 11,
      "outputs": [
        {
          "output_type": "execute_result",
          "data": {
            "text/plain": [
              "64.0"
            ]
          },
          "metadata": {},
          "execution_count": 11
        }
      ]
    },
    {
      "cell_type": "markdown",
      "source": [
        "**-------------------------**"
      ],
      "metadata": {
        "id": "64K1EyABL7Et"
      }
    },
    {
      "cell_type": "code",
      "source": [
        "\n",
        "\n",
        "\n"
      ],
      "metadata": {
        "id": "3AVDhGFqJ0aH"
      },
      "execution_count": null,
      "outputs": []
    }
  ]
}