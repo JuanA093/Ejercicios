{
  "nbformat": 4,
  "nbformat_minor": 0,
  "metadata": {
    "colab": {
      "provenance": [],
      "authorship_tag": "ABX9TyPsY+Dgm6ahixpPWRWo+Mw1",
      "include_colab_link": true
    },
    "kernelspec": {
      "name": "python3",
      "display_name": "Python 3"
    },
    "language_info": {
      "name": "python"
    }
  },
  "cells": [
    {
      "cell_type": "markdown",
      "metadata": {
        "id": "view-in-github",
        "colab_type": "text"
      },
      "source": [
        "<a href=\"https://colab.research.google.com/github/JuanA093/Ejercicios/blob/main/Condicionales_2_py.ipynb\" target=\"_parent\"><img src=\"https://colab.research.google.com/assets/colab-badge.svg\" alt=\"Open In Colab\"/></a>"
      ]
    },
    {
      "cell_type": "code",
      "execution_count": 7,
      "metadata": {
        "colab": {
          "base_uri": "https://localhost:8080/"
        },
        "id": "VODBqk9RYVSt",
        "outputId": "9a602c6a-71be-4725-d0d3-a8264096b2ed"
      },
      "outputs": [
        {
          "output_type": "stream",
          "name": "stdout",
          "text": [
            "Por favor ingrese su edad: -4\n",
            "Edad incorrecta, digite nuevamente: \n"
          ]
        }
      ],
      "source": [
        "def Condicional():\n",
        "  edad=int(input(\"Por favor ingrese su edad: \"))\n",
        "  if edad < 0:\n",
        "    print(\"Edad incorrecta, digite nuevamente. \")  \n",
        "  elif edad >= 100:\n",
        "    print(\"Edad incorrecta, digite nuevamente. \")\n",
        "  else:\n",
        "    print(\"Edad correcta, Bienvenido!\")\n",
        "\n",
        "\n",
        "Condicional()    "
      ]
    },
    {
      "cell_type": "markdown",
      "source": [
        "***OPERADORES DE COMPARACION CONCATENADOS***"
      ],
      "metadata": {
        "id": "U9glxXhPghCl"
      }
    },
    {
      "cell_type": "code",
      "source": [
        "def Condicional2():\n",
        " edad=int(input(\"Por favor ingrese su edad: \")) \n",
        " if 0<edad<100:\n",
        "   print(\"Edad correcta, bienvenido!\")\n",
        " else:\n",
        "   print(\"Edad incorrecta, digite nuevamente\")  \n",
        "\n",
        "Condicional2()"
      ],
      "metadata": {
        "colab": {
          "base_uri": "https://localhost:8080/"
        },
        "id": "nv9Fqa39eDiE",
        "outputId": "4e74758a-76eb-4bea-9b3f-6594c3286cba"
      },
      "execution_count": 12,
      "outputs": [
        {
          "output_type": "stream",
          "name": "stdout",
          "text": [
            "Por favor ingrese su edad: 0\n",
            "Edad incorrecta, digite nuevamente\n"
          ]
        }
      ]
    },
    {
      "cell_type": "code",
      "source": [
        "def Condicional3():\n",
        " salario_presidente=int(input(\"Por favor ingrese el salario del presidente : \"))\n",
        " print(\"Salario presidente: \", salario_presidente)\n",
        "\n",
        " salario_director=int(input(\"Por favor ingrese el salario del director : \"))\n",
        " print(\"Salario director: \", salario_director)  \n",
        "\n",
        " salario_jefe_area=int(input(\"Por favor ingrese el salario del jefe de area : \"))\n",
        " print(\"Salario jefe area: \", salario_jefe_area)    \n",
        " \n",
        " salario_administrativo=int(input(\"Por favor ingrese el salario del area administrativa : \"))\n",
        " print(\"Salario administrativo: \", salario_administrativo)\n",
        "\n",
        " if salario_administrativo<salario_jefe_area<salario_director<salario_presidente:\n",
        "   print(\"Todo funciona bien\")\n",
        " else:\n",
        "   print(\"Algo parece ir mal, verificalo por favor.\")    \n",
        "\n",
        "Condicional3()"
      ],
      "metadata": {
        "colab": {
          "base_uri": "https://localhost:8080/"
        },
        "id": "XCDZn1qlgtLN",
        "outputId": "d182cf01-8f33-4864-a78f-0c500e296c7e"
      },
      "execution_count": 15,
      "outputs": [
        {
          "output_type": "stream",
          "name": "stdout",
          "text": [
            "Por favor ingrese el salario del presidente : 3000\n",
            "Salario presidente:  3000\n",
            "Por favor ingrese el salario del director : 2500\n",
            "Salario director:  2500\n",
            "Por favor ingrese el salario del jefe de area : 2000\n",
            "Salario jefe area:  2000\n",
            "Por favor ingrese el salario del area administrativa : 1500\n",
            "Salario administrativo:  1500\n",
            "Todo funciona bien\n"
          ]
        }
      ]
    },
    {
      "cell_type": "markdown",
      "source": [
        "***Operadores logicos AND - OR***"
      ],
      "metadata": {
        "id": "EL52GkmzrDhm"
      }
    },
    {
      "cell_type": "markdown",
      "source": [
        "***AND***"
      ],
      "metadata": {
        "id": "b1hV2KorvD3l"
      }
    },
    {
      "cell_type": "code",
      "source": [
        "def condicional3():\n",
        "  print(\"*****Programa de Becas 2022*****\")\n",
        "  distancia=float(input(\"Sr. Usuario, por favor introduzca la distancia (Km) de su hogar: \"))\n",
        "  print(distancia)\n",
        "  print()\n",
        "\n",
        "  hermanos=float(input(\"Por favor ingrese el numero de hermanos: \"))\n",
        "  print(hermanos)\n",
        "  print()\n",
        "\n",
        "  salario=float(input(\"Por favor ingrese el salario anual total: \"))\n",
        "  print(salario)\n",
        "  print()\n",
        "\n",
        "  if distancia >= 40 and hermanos > 2 or salario <=2000000:\n",
        "    print(\"Felicidades, cumples con  los requisitos de la beca!\")\n",
        "  else:\n",
        "    print(\"Lo sentimos, no cumples con los requisitos de la beca\")  \n",
        "\n",
        "\n",
        "condicional3() "
      ],
      "metadata": {
        "colab": {
          "base_uri": "https://localhost:8080/"
        },
        "id": "it97mDHGsGvg",
        "outputId": "9b8db6e7-a66a-4383-964a-f9c2822d9118"
      },
      "execution_count": 20,
      "outputs": [
        {
          "output_type": "stream",
          "name": "stdout",
          "text": [
            "*****Programa de Becas 2022*****\n",
            "Sr. Usuario, por favor introduzca la distancia (Km) de su hogar: 2\n",
            "2.0\n",
            "\n",
            "Por favor ingrese el numero de hermanos: 0\n",
            "0.0\n",
            "\n",
            "Por favor ingrese el salario anual total: 900000\n",
            "900000.0\n",
            "\n",
            "Felicidades, cumples con todos los requisitos de la beca!\n"
          ]
        }
      ]
    },
    {
      "cell_type": "markdown",
      "source": [
        "***IN***"
      ],
      "metadata": {
        "id": "AydrXTygwWap"
      }
    },
    {
      "cell_type": "code",
      "source": [
        "def condicional4():\n",
        "  print(\"****Asignaturas Optativas 2022*****\")\n",
        "  print()\n",
        "  print(\"Asignaturas:  Informatica, Pruebas de Software, Usabilidad y Accesabilidad\")\n",
        "  print()\n",
        "  asignaturas=input(\"Sr. Usuario, por favor introduzca la materia optativa a cursar: \")\n",
        "  print()\n",
        "  \n",
        "  if asignaturas in (\"Informatica\",\"Pruebas de Software\", \"Usabilidad y Accesabilidad\"):\n",
        "    print(\"Asignatura elegida: \" +asignaturas)\n",
        "  else:\n",
        "    print(\"La asignatura escogida no se encuentra dentro del pensum\")  \n",
        "\n",
        "condicional4()    "
      ],
      "metadata": {
        "colab": {
          "base_uri": "https://localhost:8080/"
        },
        "id": "aHgtsVGywZJ5",
        "outputId": "32c4e576-9c7b-4fdd-e8fa-b060df9e7027"
      },
      "execution_count": 23,
      "outputs": [
        {
          "output_type": "stream",
          "name": "stdout",
          "text": [
            "****Asignaturas Optativas 2022*****\n",
            "Asignaturas:  Informatica, Pruebas de Software, Usabilidad y Accesabilidad\n",
            "Sr. Usuario, por favor introduzca la materia optativa a cursar: Matematicas\n",
            "La asignatura escogida no se encuentra dentro del pensum\n"
          ]
        }
      ]
    }
  ]
}