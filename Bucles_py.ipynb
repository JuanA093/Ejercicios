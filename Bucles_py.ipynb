{
  "nbformat": 4,
  "nbformat_minor": 0,
  "metadata": {
    "colab": {
      "provenance": [],
      "authorship_tag": "ABX9TyNXFw/eOiV02kFYYG2IsXYg",
      "include_colab_link": true
    },
    "kernelspec": {
      "name": "python3",
      "display_name": "Python 3"
    },
    "language_info": {
      "name": "python"
    }
  },
  "cells": [
    {
      "cell_type": "markdown",
      "metadata": {
        "id": "view-in-github",
        "colab_type": "text"
      },
      "source": [
        "<a href=\"https://colab.research.google.com/github/JuanA093/Ejercicios/blob/main/Bucles_py.ipynb\" target=\"_parent\"><img src=\"https://colab.research.google.com/assets/colab-badge.svg\" alt=\"Open In Colab\"/></a>"
      ]
    },
    {
      "cell_type": "markdown",
      "source": [
        "***FOR***"
      ],
      "metadata": {
        "id": "Dx3PehmAHaAR"
      }
    },
    {
      "cell_type": "code",
      "execution_count": 10,
      "metadata": {
        "colab": {
          "base_uri": "https://localhost:8080/"
        },
        "id": "D1qfmwe3EojO",
        "outputId": "ca19becc-4bb7-465f-e0b4-69e642573462"
      },
      "outputs": [
        {
          "output_type": "stream",
          "name": "stdout",
          "text": [
            "1\n",
            "2\n",
            "3\n"
          ]
        }
      ],
      "source": [
        "def Bucle():\n",
        "  for i in [1,2,3]:\n",
        "    print(i)\n",
        "Bucle()    "
      ]
    },
    {
      "cell_type": "code",
      "source": [
        "def Bucle2():\n",
        "  email=False\n",
        "  correo=input(\"Sr. Usuario, por favor introduzca su correo electronico a continuacion: \")\n",
        "  print()\n",
        "\n",
        "  for i in correo:\n",
        "    if(i==\"@\"):\n",
        "        email=True\n",
        "\n",
        "  if email==True:\n",
        "    print(\"Email correcto\")\n",
        "  else:\n",
        "    print(\"Email incorrecto, digite nuevamente\")        \n",
        "    \n",
        "\n",
        "Bucle2()    "
      ],
      "metadata": {
        "id": "ADOEhIohNjlN",
        "colab": {
          "base_uri": "https://localhost:8080/"
        },
        "outputId": "04a11881-418e-46a5-e5d2-e6e99fa5dd96"
      },
      "execution_count": 18,
      "outputs": [
        {
          "output_type": "stream",
          "name": "stdout",
          "text": [
            "\n",
            "Sr. Usuario, por favor introduzca su correo electronico a continuacion: juank@\n",
            "\n",
            "Email correcto\n"
          ]
        }
      ]
    },
    {
      "cell_type": "code",
      "source": [
        "def Bucle2():\n",
        "  contador=0\n",
        "  correo=input(\"Sr. Usuario, por favor introduzca su correo electronico a continuacion: \")\n",
        "  print()\n",
        "\n",
        "  for i in correo:\n",
        "    if(i==\"@\" or i==\".\"):\n",
        "        contador=contador+1\n",
        "\n",
        "  if contador==2:\n",
        "    print(\"Email correcto\")\n",
        "  else:\n",
        "    print(\"Email incorrecto, digite nuevamente\")        \n",
        "    \n",
        "\n",
        "Bucle2()    "
      ],
      "metadata": {
        "colab": {
          "base_uri": "https://localhost:8080/"
        },
        "id": "LObgK6Kbb6hp",
        "outputId": "5841044a-f41d-426a-c268-3350e6d74217"
      },
      "execution_count": 21,
      "outputs": [
        {
          "output_type": "stream",
          "name": "stdout",
          "text": [
            "Sr. Usuario, por favor introduzca su correo electronico a continuacion: juan@.com\n",
            "\n",
            "Email correcto\n"
          ]
        }
      ]
    },
    {
      "cell_type": "markdown",
      "source": [
        "***RANGE***"
      ],
      "metadata": {
        "id": "C5fDvTq_eKPX"
      }
    },
    {
      "cell_type": "code",
      "source": [
        "for i in range(5):\n",
        "  print(\"i\")"
      ],
      "metadata": {
        "colab": {
          "base_uri": "https://localhost:8080/"
        },
        "id": "WvqEBzVbeJ0Q",
        "outputId": "e20241aa-3746-4220-fdc0-6589b91e0160"
      },
      "execution_count": 2,
      "outputs": [
        {
          "output_type": "stream",
          "name": "stdout",
          "text": [
            "i\n",
            "i\n",
            "i\n",
            "i\n",
            "i\n"
          ]
        }
      ]
    }
  ]
}